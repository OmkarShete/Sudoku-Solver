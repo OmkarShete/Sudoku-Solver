{
  "nbformat": 4,
  "nbformat_minor": 0,
  "metadata": {
    "kernelspec": {
      "display_name": "Python 3",
      "language": "python",
      "name": "python3"
    },
    "language_info": {
      "codemirror_mode": {
        "name": "ipython",
        "version": 3
      },
      "file_extension": ".py",
      "mimetype": "text/x-python",
      "name": "python",
      "nbconvert_exporter": "python",
      "pygments_lexer": "ipython3",
      "version": "3.8.5"
    },
    "colab": {
      "name": "Digit Recognition using CNN.ipynb",
      "provenance": []
    },
    "accelerator": "GPU"
  },
  "cells": [
    {
      "cell_type": "code",
      "metadata": {
        "id": "bmv3pp5BhJOR"
      },
      "source": [
        "import os\n",
        "import cv2\n",
        "import numpy as np\n",
        "import tensorflow as tf\n",
        "from tensorflow import keras\n",
        "from tensorflow.keras import regularizers,layers,Model\n",
        "from tensorflow.keras.datasets import mnist\n",
        "from keras.layers import BatchNormalization, MaxPooling2D, Dropout\n",
        "import matplotlib.pyplot as plt"
      ],
      "execution_count": null,
      "outputs": []
    },
    {
      "cell_type": "code",
      "metadata": {
        "id": "Q2nRDJ6DhJOt",
        "colab": {
          "base_uri": "https://localhost:8080/"
        },
        "outputId": "2c6800a7-c8fe-440c-8d89-3ffa88933a53"
      },
      "source": [
        "(X_train, y_train), (X_test, y_test) = mnist.load_data() # Loading the data (np array)\n",
        "X_train = X_train.reshape(-1,28,28,1).astype('float32')/255.0 # resizing the data and normalizing it to ease the compuation\n",
        "X_test = X_test.reshape(-1,28,28,1).astype('float32') /255.0 # resizing the data and normalizing it to ease the compuation\n",
        "# Printing the shapes\n",
        "print(\"Shape of X_train : {}\".format(X_train.shape))\n",
        "print(\"Shape of y_train : {}\".format(y_train.shape))\n",
        "print(\"Shape of X_test  : {}\".format(X_test.shape))\n",
        "print(\"Shape of y_test  : {}\".format(y_test.shape))"
      ],
      "execution_count": null,
      "outputs": [
        {
          "output_type": "stream",
          "text": [
            "Downloading data from https://storage.googleapis.com/tensorflow/tf-keras-datasets/mnist.npz\n",
            "11493376/11490434 [==============================] - 0s 0us/step\n",
            "Shape of X_train : (60000, 28, 28, 1)\n",
            "Shape of y_train : (60000,)\n",
            "Shape of X_test  : (10000, 28, 28, 1)\n",
            "Shape of y_test  : (10000,)\n"
          ],
          "name": "stdout"
        }
      ]
    },
    {
      "cell_type": "code",
      "metadata": {
        "id": "RKVqlmVWhJO2"
      },
      "source": [
        "# # Taking look at some of the examples\n",
        "# for i in range(9):\n",
        "#     plt.subplot(330+1+i)\n",
        "#     plt.imshow(X_train[i],cmap=plt.get_cmap('gray'))\n",
        "# plt.show()"
      ],
      "execution_count": null,
      "outputs": []
    },
    {
      "cell_type": "code",
      "metadata": {
        "id": "zkepVj31hJO9"
      },
      "source": [
        "# Creating Model using Funtional Keras API\n",
        "def myModel():\n",
        "    inputs = keras.Input(shape=(28,28,1))\n",
        "    # First Layer\n",
        "    X1 = keras.layers.Conv2D(32,(3,3),padding = 'same',kernel_initializer='he_normal',kernel_regularizer=regularizers.l2(0.001))(inputs)  \n",
        "    X1 = keras.activations.relu(X1)\n",
        "    X1 = keras.layers.MaxPooling2D((2,2))(X1)\n",
        "    # Second Layer\n",
        "    X2 = keras.layers.Conv2D(64,(3,3),padding = 'same',kernel_initializer='he_normal',kernel_regularizer=regularizers.l2(0.001))(X1)  \n",
        "    X2 = keras.activations.relu(X2)\n",
        "    X2 = keras.layers.MaxPooling2D((2,2))(X2)\n",
        "    # Third Layer\n",
        "    X3 = keras.layers.Conv2D(128,(5,5),padding = 'same',kernel_initializer='he_normal',kernel_regularizer=regularizers.l2(0.001))(X2)  \n",
        "    X3 = keras.activations.relu(X3)\n",
        "    X3 = keras.layers.MaxPooling2D((2,2))(X3)\n",
        "    # Flatten\n",
        "    X4 = keras.layers.Flatten()(X3)\n",
        "    # Dense Layers (Third Layer)\n",
        "    X5 = keras.layers.Dense(100,activation='relu')(X4)\n",
        "    X5 = keras.layers.Dropout(0.4)(X5)\n",
        "    # Fourth Layer\n",
        "    outputs = keras.layers.Dense(10,activation='softmax')(X5)\n",
        "    \n",
        "    model = keras.Model(inputs=inputs, outputs=outputs)\n",
        "    \n",
        "    return model"
      ],
      "execution_count": null,
      "outputs": []
    },
    {
      "cell_type": "code",
      "metadata": {
        "id": "DxQAD8LThJPB",
        "colab": {
          "base_uri": "https://localhost:8080/",
          "height": 35
        },
        "outputId": "6e19bbdb-8262-4905-89cb-337aebfc6556"
      },
      "source": [
        "'''\n",
        "model = keras.models.load_model('saved_model')\n",
        "model.summary()\n",
        "'''"
      ],
      "execution_count": null,
      "outputs": [
        {
          "output_type": "execute_result",
          "data": {
            "application/vnd.google.colaboratory.intrinsic+json": {
              "type": "string"
            },
            "text/plain": [
              "\"\\nmodel = keras.models.load_model('saved_model')\\nmodel.summary()\\n\""
            ]
          },
          "metadata": {
            "tags": []
          },
          "execution_count": 5
        }
      ]
    },
    {
      "cell_type": "code",
      "metadata": {
        "id": "WXgqzbMZhJPH",
        "colab": {
          "base_uri": "https://localhost:8080/"
        },
        "outputId": "bb4ad01a-dc15-4a28-c644-625512602992"
      },
      "source": [
        "# Creating a model\n",
        "model = myModel()\n",
        "model.compile(\n",
        "    loss = keras.losses.SparseCategoricalCrossentropy(from_logits=False),\n",
        "    metrics = ['accuracy'],\n",
        "    optimizer = keras.optimizers.Adam(lr=3e-4) \n",
        "        )\n",
        "model.summary()"
      ],
      "execution_count": null,
      "outputs": [
        {
          "output_type": "stream",
          "text": [
            "Model: \"model\"\n",
            "_________________________________________________________________\n",
            "Layer (type)                 Output Shape              Param #   \n",
            "=================================================================\n",
            "input_1 (InputLayer)         [(None, 28, 28, 1)]       0         \n",
            "_________________________________________________________________\n",
            "conv2d (Conv2D)              (None, 28, 28, 32)        320       \n",
            "_________________________________________________________________\n",
            "tf.nn.relu (TFOpLambda)      (None, 28, 28, 32)        0         \n",
            "_________________________________________________________________\n",
            "max_pooling2d (MaxPooling2D) (None, 14, 14, 32)        0         \n",
            "_________________________________________________________________\n",
            "conv2d_1 (Conv2D)            (None, 14, 14, 64)        18496     \n",
            "_________________________________________________________________\n",
            "tf.nn.relu_1 (TFOpLambda)    (None, 14, 14, 64)        0         \n",
            "_________________________________________________________________\n",
            "max_pooling2d_1 (MaxPooling2 (None, 7, 7, 64)          0         \n",
            "_________________________________________________________________\n",
            "conv2d_2 (Conv2D)            (None, 7, 7, 128)         204928    \n",
            "_________________________________________________________________\n",
            "tf.nn.relu_2 (TFOpLambda)    (None, 7, 7, 128)         0         \n",
            "_________________________________________________________________\n",
            "max_pooling2d_2 (MaxPooling2 (None, 3, 3, 128)         0         \n",
            "_________________________________________________________________\n",
            "flatten (Flatten)            (None, 1152)              0         \n",
            "_________________________________________________________________\n",
            "dense (Dense)                (None, 100)               115300    \n",
            "_________________________________________________________________\n",
            "dropout (Dropout)            (None, 100)               0         \n",
            "_________________________________________________________________\n",
            "dense_1 (Dense)              (None, 10)                1010      \n",
            "=================================================================\n",
            "Total params: 340,054\n",
            "Trainable params: 340,054\n",
            "Non-trainable params: 0\n",
            "_________________________________________________________________\n"
          ],
          "name": "stdout"
        },
        {
          "output_type": "stream",
          "text": [
            "/usr/local/lib/python3.7/dist-packages/tensorflow/python/keras/optimizer_v2/optimizer_v2.py:375: UserWarning: The `lr` argument is deprecated, use `learning_rate` instead.\n",
            "  \"The `lr` argument is deprecated, use `learning_rate` instead.\")\n"
          ],
          "name": "stderr"
        }
      ]
    },
    {
      "cell_type": "code",
      "metadata": {
        "id": "HkVx2cachJPM",
        "colab": {
          "base_uri": "https://localhost:8080/"
        },
        "outputId": "29b34728-a560-4588-bbec-6d033bfcbc64"
      },
      "source": [
        "# Training model\n",
        "history = model.fit(X_train,y_train,epochs=50,batch_size=64,verbose=1)"
      ],
      "execution_count": null,
      "outputs": [
        {
          "output_type": "stream",
          "text": [
            "Epoch 1/50\n",
            "938/938 [==============================] - 36s 5ms/step - loss: 0.7203 - accuracy: 0.8997\n",
            "Epoch 2/50\n",
            "938/938 [==============================] - 4s 5ms/step - loss: 0.4041 - accuracy: 0.9713\n",
            "Epoch 3/50\n",
            "938/938 [==============================] - 4s 5ms/step - loss: 0.3072 - accuracy: 0.9785\n",
            "Epoch 4/50\n",
            "938/938 [==============================] - 4s 5ms/step - loss: 0.2403 - accuracy: 0.9829\n",
            "Epoch 5/50\n",
            "938/938 [==============================] - 4s 5ms/step - loss: 0.1907 - accuracy: 0.9847\n",
            "Epoch 6/50\n",
            "938/938 [==============================] - 4s 5ms/step - loss: 0.1566 - accuracy: 0.9864\n",
            "Epoch 7/50\n",
            "938/938 [==============================] - 4s 5ms/step - loss: 0.1335 - accuracy: 0.9877\n",
            "Epoch 8/50\n",
            "938/938 [==============================] - 4s 5ms/step - loss: 0.1178 - accuracy: 0.9883\n",
            "Epoch 9/50\n",
            "938/938 [==============================] - 4s 5ms/step - loss: 0.1068 - accuracy: 0.9884\n",
            "Epoch 10/50\n",
            "938/938 [==============================] - 4s 5ms/step - loss: 0.0954 - accuracy: 0.9903\n",
            "Epoch 11/50\n",
            "938/938 [==============================] - 4s 5ms/step - loss: 0.0879 - accuracy: 0.9908\n",
            "Epoch 12/50\n",
            "938/938 [==============================] - 4s 5ms/step - loss: 0.0845 - accuracy: 0.9905\n",
            "Epoch 13/50\n",
            "938/938 [==============================] - 4s 5ms/step - loss: 0.0787 - accuracy: 0.9913\n",
            "Epoch 14/50\n",
            "938/938 [==============================] - 4s 5ms/step - loss: 0.0749 - accuracy: 0.9918\n",
            "Epoch 15/50\n",
            "938/938 [==============================] - 4s 5ms/step - loss: 0.0721 - accuracy: 0.9915\n",
            "Epoch 16/50\n",
            "938/938 [==============================] - 4s 5ms/step - loss: 0.0684 - accuracy: 0.9925\n",
            "Epoch 17/50\n",
            "938/938 [==============================] - 4s 5ms/step - loss: 0.0663 - accuracy: 0.9925\n",
            "Epoch 18/50\n",
            "938/938 [==============================] - 4s 5ms/step - loss: 0.0630 - accuracy: 0.9934\n",
            "Epoch 19/50\n",
            "938/938 [==============================] - 4s 5ms/step - loss: 0.0605 - accuracy: 0.9932\n",
            "Epoch 20/50\n",
            "938/938 [==============================] - 4s 5ms/step - loss: 0.0585 - accuracy: 0.9936\n",
            "Epoch 21/50\n",
            "938/938 [==============================] - 4s 5ms/step - loss: 0.0574 - accuracy: 0.9934\n",
            "Epoch 22/50\n",
            "938/938 [==============================] - 4s 5ms/step - loss: 0.0545 - accuracy: 0.9942\n",
            "Epoch 23/50\n",
            "938/938 [==============================] - 4s 5ms/step - loss: 0.0539 - accuracy: 0.9938\n",
            "Epoch 24/50\n",
            "938/938 [==============================] - 4s 5ms/step - loss: 0.0519 - accuracy: 0.9940\n",
            "Epoch 25/50\n",
            "938/938 [==============================] - 4s 5ms/step - loss: 0.0527 - accuracy: 0.9939\n",
            "Epoch 26/50\n",
            "938/938 [==============================] - 4s 5ms/step - loss: 0.0509 - accuracy: 0.9941\n",
            "Epoch 27/50\n",
            "938/938 [==============================] - 4s 5ms/step - loss: 0.0494 - accuracy: 0.9945\n",
            "Epoch 28/50\n",
            "938/938 [==============================] - 4s 5ms/step - loss: 0.0480 - accuracy: 0.9951\n",
            "Epoch 29/50\n",
            "938/938 [==============================] - 4s 5ms/step - loss: 0.0481 - accuracy: 0.9946\n",
            "Epoch 30/50\n",
            "938/938 [==============================] - 4s 5ms/step - loss: 0.0475 - accuracy: 0.9948\n",
            "Epoch 31/50\n",
            "938/938 [==============================] - 4s 5ms/step - loss: 0.0459 - accuracy: 0.9949\n",
            "Epoch 32/50\n",
            "938/938 [==============================] - 4s 5ms/step - loss: 0.0448 - accuracy: 0.9950\n",
            "Epoch 33/50\n",
            "938/938 [==============================] - 4s 5ms/step - loss: 0.0451 - accuracy: 0.9948\n",
            "Epoch 34/50\n",
            "938/938 [==============================] - 4s 5ms/step - loss: 0.0432 - accuracy: 0.9955\n",
            "Epoch 35/50\n",
            "938/938 [==============================] - 4s 5ms/step - loss: 0.0419 - accuracy: 0.9956\n",
            "Epoch 36/50\n",
            "938/938 [==============================] - 4s 5ms/step - loss: 0.0426 - accuracy: 0.9951\n",
            "Epoch 37/50\n",
            "938/938 [==============================] - 4s 5ms/step - loss: 0.0411 - accuracy: 0.9956\n",
            "Epoch 38/50\n",
            "938/938 [==============================] - 4s 5ms/step - loss: 0.0411 - accuracy: 0.9951\n",
            "Epoch 39/50\n",
            "938/938 [==============================] - 4s 5ms/step - loss: 0.0390 - accuracy: 0.9958\n",
            "Epoch 40/50\n",
            "938/938 [==============================] - 4s 5ms/step - loss: 0.0402 - accuracy: 0.9954\n",
            "Epoch 41/50\n",
            "938/938 [==============================] - 4s 5ms/step - loss: 0.0382 - accuracy: 0.9960\n",
            "Epoch 42/50\n",
            "938/938 [==============================] - 4s 5ms/step - loss: 0.0382 - accuracy: 0.9959\n",
            "Epoch 43/50\n",
            "938/938 [==============================] - 4s 5ms/step - loss: 0.0383 - accuracy: 0.9957\n",
            "Epoch 44/50\n",
            "938/938 [==============================] - 4s 5ms/step - loss: 0.0375 - accuracy: 0.9961\n",
            "Epoch 45/50\n",
            "938/938 [==============================] - 4s 5ms/step - loss: 0.0367 - accuracy: 0.9958\n",
            "Epoch 46/50\n",
            "938/938 [==============================] - 4s 5ms/step - loss: 0.0362 - accuracy: 0.9962\n",
            "Epoch 47/50\n",
            "938/938 [==============================] - 4s 5ms/step - loss: 0.0361 - accuracy: 0.9962\n",
            "Epoch 48/50\n",
            "938/938 [==============================] - 4s 5ms/step - loss: 0.0358 - accuracy: 0.9958\n",
            "Epoch 49/50\n",
            "938/938 [==============================] - 4s 5ms/step - loss: 0.0366 - accuracy: 0.9958\n",
            "Epoch 50/50\n",
            "938/938 [==============================] - 4s 5ms/step - loss: 0.0343 - accuracy: 0.9964\n"
          ],
          "name": "stdout"
        }
      ]
    },
    {
      "cell_type": "code",
      "metadata": {
        "id": "DcsBsawVhJPP",
        "colab": {
          "base_uri": "https://localhost:8080/"
        },
        "outputId": "18229811-3fa5-4312-d7e1-7fcb0768b197"
      },
      "source": [
        "model.evaluate(X_test,y_test,batch_size=64,verbose=1)"
      ],
      "execution_count": null,
      "outputs": [
        {
          "output_type": "stream",
          "text": [
            "157/157 [==============================] - 1s 3ms/step - loss: 0.0479 - accuracy: 0.9929\n"
          ],
          "name": "stdout"
        },
        {
          "output_type": "execute_result",
          "data": {
            "text/plain": [
              "[0.04788747429847717, 0.992900013923645]"
            ]
          },
          "metadata": {
            "tags": []
          },
          "execution_count": 8
        }
      ]
    },
    {
      "cell_type": "code",
      "metadata": {
        "id": "H5oOqSTwArTo"
      },
      "source": [
        "# !mkdir -p saved_model"
      ],
      "execution_count": null,
      "outputs": []
    },
    {
      "cell_type": "code",
      "metadata": {
        "id": "iHCxbgKXhJPR"
      },
      "source": [
        "# Saving model and weights\n",
        "model.save(\"model.h5\")"
      ],
      "execution_count": null,
      "outputs": []
    },
    {
      "cell_type": "code",
      "metadata": {
        "colab": {
          "base_uri": "https://localhost:8080/"
        },
        "id": "NbeeRBtSFnZE",
        "outputId": "bd3587f6-bdf6-4a5c-b772-03c5f24f79dc"
      },
      "source": [
        "model.save(\"saved_model\")"
      ],
      "execution_count": null,
      "outputs": [
        {
          "output_type": "stream",
          "text": [
            "INFO:tensorflow:Assets written to: saved_model/assets\n"
          ],
          "name": "stdout"
        }
      ]
    },
    {
      "cell_type": "code",
      "metadata": {
        "id": "FF7WJ0QnhJPU",
        "colab": {
          "base_uri": "https://localhost:8080/",
          "height": 295
        },
        "outputId": "069c5464-baf6-46b6-c188-6fbe44d1b182"
      },
      "source": [
        "# Plotting the learning curve\n",
        "loss = history.history['loss']\n",
        "epochs = history.epoch \n",
        "plt.plot(epochs,loss)\n",
        "plt.xlabel('number of Epochs')\n",
        "plt.ylabel('Loss')\n",
        "plt.title('Learning Curve')\n",
        "plt.show\n",
        "plt.savefig('LearningCurve.png', dpi=300, bbox_inches='tight')"
      ],
      "execution_count": null,
      "outputs": [
        {
          "output_type": "display_data",
          "data": {
            "image/png": "[encoded data removed]",
            "text/plain": [
              "<Figure size 432x288 with 1 Axes>"
            ]
          },
          "metadata": {
            "tags": [],
            "needs_background": "light"
          }
        }
      ]
    },
    {
      "cell_type": "code",
      "metadata": {
        "id": "4_F6PKLkhJPY",
        "colab": {
          "base_uri": "https://localhost:8080/",
          "height": 295
        },
        "outputId": "b308173c-2b39-4597-b0c2-fe9d671ef1f8"
      },
      "source": [
        "# Plotting the Accuracy curve\n",
        "acc = history.history['accuracy']\n",
        "epochs = history.epoch \n",
        "plt.plot(epochs,acc)\n",
        "plt.xlabel('number of Epochs')\n",
        "plt.ylabel('Accuracy')\n",
        "plt.title('Accuracy vs Epochs')\n",
        "plt.show\n",
        "plt.savefig('AccuracyCurve.png', dpi=300, bbox_inches='tight')"
      ],
      "execution_count": null,
      "outputs": [
        {
          "output_type": "display_data",
          "data": {
            "image/png": "[encoded data removed]",
            "text/plain": [
              "<Figure size 432x288 with 1 Axes>"
            ]
          },
          "metadata": {
            "tags": [],
            "needs_background": "light"
          }
        }
      ]
    },
    {
      "cell_type": "code",
      "metadata": {
        "id": "KYnz6u2nhJPf",
        "colab": {
          "base_uri": "https://localhost:8080/"
        },
        "outputId": "3129214f-c081-4033-8dea-1faf4d0f6a38"
      },
      "source": [
        "!apt-get install zip"
      ],
      "execution_count": null,
      "outputs": [
        {
          "output_type": "stream",
          "text": [
            "Reading package lists... Done\n",
            "Building dependency tree       \n",
            "Reading state information... Done\n",
            "zip is already the newest version (3.0-11build1).\n",
            "0 upgraded, 0 newly installed, 0 to remove and 39 not upgraded.\n"
          ],
          "name": "stdout"
        }
      ]
    },
    {
      "cell_type": "code",
      "metadata": {
        "id": "3n49VQv0hJPh",
        "colab": {
          "base_uri": "https://localhost:8080/"
        },
        "outputId": "05ca3006-2aff-469e-9753-6943e15abbb4"
      },
      "source": [
        "!zip -r saved_model.zip saved_model"
      ],
      "execution_count": null,
      "outputs": [
        {
          "output_type": "stream",
          "text": [
            "  adding: saved_model/ (stored 0%)\n",
            "  adding: saved_model/keras_metadata.pb (deflated 91%)\n",
            "  adding: saved_model/variables/ (stored 0%)\n",
            "  adding: saved_model/variables/variables.index (deflated 66%)\n",
            "  adding: saved_model/variables/variables.data-00000-of-00001 (deflated 9%)\n",
            "  adding: saved_model/saved_model.pb (deflated 89%)\n",
            "  adding: saved_model/assets/ (stored 0%)\n"
          ],
          "name": "stdout"
        }
      ]
    },
    {
      "cell_type": "code",
      "metadata": {
        "id": "TV3NDSjshJPk"
      },
      "source": [
        ""
      ],
      "execution_count": null,
      "outputs": []
    },
    {
      "cell_type": "code",
      "metadata": {
        "id": "tJ-PUecBhJPm"
      },
      "source": [
        ""
      ],
      "execution_count": null,
      "outputs": []
    }
  ]
}